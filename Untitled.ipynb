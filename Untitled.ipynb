{
 "cells": [
  {
   "cell_type": "code",
   "execution_count": 2,
   "metadata": {},
   "outputs": [
    {
     "ename": "IndentationError",
     "evalue": "unexpected indent (<ipython-input-2-34e803e784e8>, line 10)",
     "output_type": "error",
     "traceback": [
      "\u001b[1;36m  File \u001b[1;32m\"<ipython-input-2-34e803e784e8>\"\u001b[1;36m, line \u001b[1;32m10\u001b[0m\n\u001b[1;33m    model = pickle.load(file)\u001b[0m\n\u001b[1;37m    ^\u001b[0m\n\u001b[1;31mIndentationError\u001b[0m\u001b[1;31m:\u001b[0m unexpected indent\n"
     ]
    }
   ],
   "source": [
    "# Import necessary libraries\n",
    "import pickle\n",
    "from flask import Flask, request, jsonify\n",
    "\n",
    "# Load the trained model\n",
    "with open(\"vectorizer.pkl\", \"wb\") as model_file:\n",
    "    model = pickle.load(model_file)\n",
    "# Load the saved model\n",
    "with open(\"model.pkl\", \"wb\") as file:a\n",
    "    model = pickle.load(file)\n",
    "    \n",
    "# Initialize Flask app\n",
    "app = Flask(__name__)\n",
    "\n",
    "# Define a route for model prediction\n",
    "@app.route('/predict', methods=['POST'])\n",
    "def predict():\n",
    "    try:\n",
    "        # Get input data from request\n",
    "        data = request.get_json()\n",
    "        \n",
    "        # Ensure the 'text' key is present in the JSON\n",
    "        if 'text' not in data:\n",
    "            return jsonify({'error': 'Missing input data'}), 400\n",
    "        \n",
    "        # Make prediction using the loaded model\n",
    "        text = data['text']\n",
    "        prediction = model.predict([text])[0]\n",
    "        \n",
    "        # Return the prediction as JSON response\n",
    "        return jsonify({'prediction': prediction})\n",
    "    \n",
    "    except Exception as e:\n",
    "        return jsonify({'error': str(e)}), 500\n",
    "\n",
    "if __name__ == '__main__':\n",
    "    # Run the app on localhost and port 5000\n",
    "    app.run(host='0.0.0.0', port=5000)\n"
   ]
  },
  {
   "cell_type": "code",
   "execution_count": null,
   "metadata": {},
   "outputs": [],
   "source": []
  },
  {
   "cell_type": "code",
   "execution_count": null,
   "metadata": {},
   "outputs": [],
   "source": []
  }
 ],
 "metadata": {
  "kernelspec": {
   "display_name": "Python 3",
   "language": "python",
   "name": "python3"
  },
  "language_info": {
   "codemirror_mode": {
    "name": "ipython",
    "version": 3
   },
   "file_extension": ".py",
   "mimetype": "text/x-python",
   "name": "python",
   "nbconvert_exporter": "python",
   "pygments_lexer": "ipython3",
   "version": "3.8.5"
  }
 },
 "nbformat": 4,
 "nbformat_minor": 5
}
